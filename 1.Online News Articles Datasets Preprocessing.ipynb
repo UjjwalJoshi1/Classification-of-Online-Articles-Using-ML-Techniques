{
 "cells": [
  {
   "cell_type": "markdown",
   "metadata": {
    "id": "TyFF9pP5lElu"
   },
   "source": [
    "## Online news article data- I"
   ]
  },
  {
   "cell_type": "code",
   "execution_count": 1,
   "metadata": {
    "colab": {
     "base_uri": "https://localhost:8080/",
     "height": 423
    },
    "executionInfo": {
     "elapsed": 1094,
     "status": "ok",
     "timestamp": 1701102122161,
     "user": {
      "displayName": "Jada Projects",
      "userId": "08763996031315654589"
     },
     "user_tz": -330
    },
    "id": "y1ekIkQCpQl5",
    "outputId": "80a63748-ce7b-495d-df83-3f03dd5adf57"
   },
   "outputs": [
    {
     "data": {
      "text/html": [
       "<div>\n",
       "<style scoped>\n",
       "    .dataframe tbody tr th:only-of-type {\n",
       "        vertical-align: middle;\n",
       "    }\n",
       "\n",
       "    .dataframe tbody tr th {\n",
       "        vertical-align: top;\n",
       "    }\n",
       "\n",
       "    .dataframe thead th {\n",
       "        text-align: right;\n",
       "    }\n",
       "</style>\n",
       "<table border=\"1\" class=\"dataframe\">\n",
       "  <thead>\n",
       "    <tr style=\"text-align: right;\">\n",
       "      <th></th>\n",
       "      <th>ArticleId</th>\n",
       "      <th>Text</th>\n",
       "      <th>Category</th>\n",
       "    </tr>\n",
       "  </thead>\n",
       "  <tbody>\n",
       "    <tr>\n",
       "      <th>0</th>\n",
       "      <td>1833</td>\n",
       "      <td>worldcom ex-boss launches defence lawyers defe...</td>\n",
       "      <td>business</td>\n",
       "    </tr>\n",
       "    <tr>\n",
       "      <th>1</th>\n",
       "      <td>154</td>\n",
       "      <td>german business confidence slides german busin...</td>\n",
       "      <td>business</td>\n",
       "    </tr>\n",
       "    <tr>\n",
       "      <th>2</th>\n",
       "      <td>1101</td>\n",
       "      <td>bbc poll indicates economic gloom citizens in ...</td>\n",
       "      <td>business</td>\n",
       "    </tr>\n",
       "    <tr>\n",
       "      <th>3</th>\n",
       "      <td>1976</td>\n",
       "      <td>lifestyle  governs mobile choice  faster  bett...</td>\n",
       "      <td>tech</td>\n",
       "    </tr>\n",
       "    <tr>\n",
       "      <th>4</th>\n",
       "      <td>917</td>\n",
       "      <td>enron bosses in $168m payout eighteen former e...</td>\n",
       "      <td>business</td>\n",
       "    </tr>\n",
       "    <tr>\n",
       "      <th>...</th>\n",
       "      <td>...</td>\n",
       "      <td>...</td>\n",
       "      <td>...</td>\n",
       "    </tr>\n",
       "    <tr>\n",
       "      <th>1485</th>\n",
       "      <td>857</td>\n",
       "      <td>double eviction from big brother model caprice...</td>\n",
       "      <td>entertainment</td>\n",
       "    </tr>\n",
       "    <tr>\n",
       "      <th>1486</th>\n",
       "      <td>325</td>\n",
       "      <td>dj double act revamp chart show dj duo jk and ...</td>\n",
       "      <td>entertainment</td>\n",
       "    </tr>\n",
       "    <tr>\n",
       "      <th>1487</th>\n",
       "      <td>1590</td>\n",
       "      <td>weak dollar hits reuters revenues at media gro...</td>\n",
       "      <td>business</td>\n",
       "    </tr>\n",
       "    <tr>\n",
       "      <th>1488</th>\n",
       "      <td>1587</td>\n",
       "      <td>apple ipod family expands market apple has exp...</td>\n",
       "      <td>tech</td>\n",
       "    </tr>\n",
       "    <tr>\n",
       "      <th>1489</th>\n",
       "      <td>538</td>\n",
       "      <td>santy worm makes unwelcome visit thousands of ...</td>\n",
       "      <td>tech</td>\n",
       "    </tr>\n",
       "  </tbody>\n",
       "</table>\n",
       "<p>1490 rows × 3 columns</p>\n",
       "</div>"
      ],
      "text/plain": [
       "      ArticleId                                               Text  \\\n",
       "0          1833  worldcom ex-boss launches defence lawyers defe...   \n",
       "1           154  german business confidence slides german busin...   \n",
       "2          1101  bbc poll indicates economic gloom citizens in ...   \n",
       "3          1976  lifestyle  governs mobile choice  faster  bett...   \n",
       "4           917  enron bosses in $168m payout eighteen former e...   \n",
       "...         ...                                                ...   \n",
       "1485        857  double eviction from big brother model caprice...   \n",
       "1486        325  dj double act revamp chart show dj duo jk and ...   \n",
       "1487       1590  weak dollar hits reuters revenues at media gro...   \n",
       "1488       1587  apple ipod family expands market apple has exp...   \n",
       "1489        538  santy worm makes unwelcome visit thousands of ...   \n",
       "\n",
       "           Category  \n",
       "0          business  \n",
       "1          business  \n",
       "2          business  \n",
       "3              tech  \n",
       "4          business  \n",
       "...             ...  \n",
       "1485  entertainment  \n",
       "1486  entertainment  \n",
       "1487       business  \n",
       "1488           tech  \n",
       "1489           tech  \n",
       "\n",
       "[1490 rows x 3 columns]"
      ]
     },
     "execution_count": 1,
     "metadata": {},
     "output_type": "execute_result"
    }
   ],
   "source": [
    "import pandas as pd\n",
    "\n",
    "Dataset1 = pd.read_csv('BBC News Train.csv')\n",
    "Dataset1"
   ]
  },
  {
   "cell_type": "code",
   "execution_count": 2,
   "metadata": {
    "colab": {
     "base_uri": "https://localhost:8080/"
    },
    "executionInfo": {
     "elapsed": 10,
     "status": "ok",
     "timestamp": 1701102163375,
     "user": {
      "displayName": "Jada Projects",
      "userId": "08763996031315654589"
     },
     "user_tz": -330
    },
    "id": "1nGrfrS4pXTG",
    "outputId": "1bdbf564-3964-47ab-de88-cf4a8292dc22"
   },
   "outputs": [
    {
     "data": {
      "text/plain": [
       "Category\n",
       "sport            346\n",
       "business         336\n",
       "politics         274\n",
       "entertainment    273\n",
       "tech             261\n",
       "Name: count, dtype: int64"
      ]
     },
     "execution_count": 2,
     "metadata": {},
     "output_type": "execute_result"
    }
   ],
   "source": [
    "Dataset1['Category'].value_counts()"
   ]
  },
  {
   "cell_type": "markdown",
   "metadata": {
    "id": "tOyKF_G29k3z"
   },
   "source": [
    "* Five classes in output category....."
   ]
  },
  {
   "cell_type": "markdown",
   "metadata": {
    "id": "1BeZ10yKmVpB"
   },
   "source": [
    "## Data Pre-processing: "
   ]
  },
  {
   "cell_type": "code",
   "execution_count": 3,
   "metadata": {
    "executionInfo": {
     "elapsed": 20,
     "status": "ok",
     "timestamp": 1701102198811,
     "user": {
      "displayName": "Jada Projects",
      "userId": "08763996031315654589"
     },
     "user_tz": -330
    },
    "id": "xbVP5CRSpXWh"
   },
   "outputs": [],
   "source": [
    "del Dataset1['ArticleId']"
   ]
  },
  {
   "cell_type": "code",
   "execution_count": 4,
   "metadata": {
    "colab": {
     "base_uri": "https://localhost:8080/"
    },
    "executionInfo": {
     "elapsed": 11,
     "status": "ok",
     "timestamp": 1701102217514,
     "user": {
      "displayName": "Jada Projects",
      "userId": "08763996031315654589"
     },
     "user_tz": -330
    },
    "id": "siZ_iYfGpXZL",
    "outputId": "5be5cc7e-6a3e-4b48-9551-7800490b5e2a"
   },
   "outputs": [
    {
     "data": {
      "text/plain": [
       "0"
      ]
     },
     "execution_count": 4,
     "metadata": {},
     "output_type": "execute_result"
    }
   ],
   "source": [
    "Dataset1.isnull().values.sum()"
   ]
  },
  {
   "cell_type": "code",
   "execution_count": 5,
   "metadata": {
    "colab": {
     "base_uri": "https://localhost:8080/"
    },
    "executionInfo": {
     "elapsed": 19,
     "status": "ok",
     "timestamp": 1701102286626,
     "user": {
      "displayName": "Jada Projects",
      "userId": "08763996031315654589"
     },
     "user_tz": -330
    },
    "id": "Q6XUy2gfpXfs",
    "outputId": "ef1e9263-4231-4dcb-a312-0c4e727d42f2"
   },
   "outputs": [
    {
     "name": "stdout",
     "output_type": "stream",
     "text": [
      "rows shape - duplicates found\n"
     ]
    },
    {
     "data": {
      "text/plain": [
       "50"
      ]
     },
     "execution_count": 5,
     "metadata": {},
     "output_type": "execute_result"
    }
   ],
   "source": [
    "print(\"rows shape - duplicates found\")\n",
    "(Dataset1[Dataset1.duplicated()]).shape[0]"
   ]
  },
  {
   "cell_type": "code",
   "execution_count": 6,
   "metadata": {
    "colab": {
     "base_uri": "https://localhost:8080/",
     "height": 423
    },
    "executionInfo": {
     "elapsed": 20,
     "status": "ok",
     "timestamp": 1701102302840,
     "user": {
      "displayName": "Jada Projects",
      "userId": "08763996031315654589"
     },
     "user_tz": -330
    },
    "id": "CVZnShnopXis",
    "outputId": "43a66bc4-d0f1-4953-debf-6d2cb8e7f328"
   },
   "outputs": [
    {
     "data": {
      "text/html": [
       "<div>\n",
       "<style scoped>\n",
       "    .dataframe tbody tr th:only-of-type {\n",
       "        vertical-align: middle;\n",
       "    }\n",
       "\n",
       "    .dataframe tbody tr th {\n",
       "        vertical-align: top;\n",
       "    }\n",
       "\n",
       "    .dataframe thead th {\n",
       "        text-align: right;\n",
       "    }\n",
       "</style>\n",
       "<table border=\"1\" class=\"dataframe\">\n",
       "  <thead>\n",
       "    <tr style=\"text-align: right;\">\n",
       "      <th></th>\n",
       "      <th>Text</th>\n",
       "      <th>Category</th>\n",
       "    </tr>\n",
       "  </thead>\n",
       "  <tbody>\n",
       "    <tr>\n",
       "      <th>0</th>\n",
       "      <td>worldcom ex-boss launches defence lawyers defe...</td>\n",
       "      <td>business</td>\n",
       "    </tr>\n",
       "    <tr>\n",
       "      <th>1</th>\n",
       "      <td>german business confidence slides german busin...</td>\n",
       "      <td>business</td>\n",
       "    </tr>\n",
       "    <tr>\n",
       "      <th>2</th>\n",
       "      <td>bbc poll indicates economic gloom citizens in ...</td>\n",
       "      <td>business</td>\n",
       "    </tr>\n",
       "    <tr>\n",
       "      <th>3</th>\n",
       "      <td>lifestyle  governs mobile choice  faster  bett...</td>\n",
       "      <td>tech</td>\n",
       "    </tr>\n",
       "    <tr>\n",
       "      <th>4</th>\n",
       "      <td>enron bosses in $168m payout eighteen former e...</td>\n",
       "      <td>business</td>\n",
       "    </tr>\n",
       "    <tr>\n",
       "      <th>...</th>\n",
       "      <td>...</td>\n",
       "      <td>...</td>\n",
       "    </tr>\n",
       "    <tr>\n",
       "      <th>1485</th>\n",
       "      <td>double eviction from big brother model caprice...</td>\n",
       "      <td>entertainment</td>\n",
       "    </tr>\n",
       "    <tr>\n",
       "      <th>1486</th>\n",
       "      <td>dj double act revamp chart show dj duo jk and ...</td>\n",
       "      <td>entertainment</td>\n",
       "    </tr>\n",
       "    <tr>\n",
       "      <th>1487</th>\n",
       "      <td>weak dollar hits reuters revenues at media gro...</td>\n",
       "      <td>business</td>\n",
       "    </tr>\n",
       "    <tr>\n",
       "      <th>1488</th>\n",
       "      <td>apple ipod family expands market apple has exp...</td>\n",
       "      <td>tech</td>\n",
       "    </tr>\n",
       "    <tr>\n",
       "      <th>1489</th>\n",
       "      <td>santy worm makes unwelcome visit thousands of ...</td>\n",
       "      <td>tech</td>\n",
       "    </tr>\n",
       "  </tbody>\n",
       "</table>\n",
       "<p>1440 rows × 2 columns</p>\n",
       "</div>"
      ],
      "text/plain": [
       "                                                   Text       Category\n",
       "0     worldcom ex-boss launches defence lawyers defe...       business\n",
       "1     german business confidence slides german busin...       business\n",
       "2     bbc poll indicates economic gloom citizens in ...       business\n",
       "3     lifestyle  governs mobile choice  faster  bett...           tech\n",
       "4     enron bosses in $168m payout eighteen former e...       business\n",
       "...                                                 ...            ...\n",
       "1485  double eviction from big brother model caprice...  entertainment\n",
       "1486  dj double act revamp chart show dj duo jk and ...  entertainment\n",
       "1487  weak dollar hits reuters revenues at media gro...       business\n",
       "1488  apple ipod family expands market apple has exp...           tech\n",
       "1489  santy worm makes unwelcome visit thousands of ...           tech\n",
       "\n",
       "[1440 rows x 2 columns]"
      ]
     },
     "execution_count": 6,
     "metadata": {},
     "output_type": "execute_result"
    }
   ],
   "source": [
    "Dataset1 =Dataset1.drop_duplicates()\n",
    "Dataset1"
   ]
  },
  {
   "cell_type": "code",
   "execution_count": 8,
   "metadata": {
    "colab": {
     "base_uri": "https://localhost:8080/",
     "height": 458
    },
    "executionInfo": {
     "elapsed": 16307,
     "status": "ok",
     "timestamp": 1701102867256,
     "user": {
      "displayName": "Jada Projects",
      "userId": "08763996031315654589"
     },
     "user_tz": -330
    },
    "id": "Hs0E9q3bmu_-",
    "outputId": "95401b8d-d34c-437a-b40d-e859454b4dd5"
   },
   "outputs": [
    {
     "name": "stderr",
     "output_type": "stream",
     "text": [
      "[nltk_data] Downloading package stopwords to C:\\Users\\Ujjwal\n",
      "[nltk_data]     Joshi\\AppData\\Roaming\\nltk_data...\n",
      "[nltk_data]   Package stopwords is already up-to-date!\n",
      "C:\\Users\\Ujjwal Joshi\\AppData\\Local\\Temp\\ipykernel_7608\\3363933196.py:22: SettingWithCopyWarning: \n",
      "A value is trying to be set on a copy of a slice from a DataFrame.\n",
      "Try using .loc[row_indexer,col_indexer] = value instead\n",
      "\n",
      "See the caveats in the documentation: https://pandas.pydata.org/pandas-docs/stable/user_guide/indexing.html#returning-a-view-versus-a-copy\n",
      "  Dataset1['Text']=text\n"
     ]
    },
    {
     "data": {
      "text/html": [
       "<div>\n",
       "<style scoped>\n",
       "    .dataframe tbody tr th:only-of-type {\n",
       "        vertical-align: middle;\n",
       "    }\n",
       "\n",
       "    .dataframe tbody tr th {\n",
       "        vertical-align: top;\n",
       "    }\n",
       "\n",
       "    .dataframe thead th {\n",
       "        text-align: right;\n",
       "    }\n",
       "</style>\n",
       "<table border=\"1\" class=\"dataframe\">\n",
       "  <thead>\n",
       "    <tr style=\"text-align: right;\">\n",
       "      <th></th>\n",
       "      <th>Text</th>\n",
       "      <th>Category</th>\n",
       "    </tr>\n",
       "  </thead>\n",
       "  <tbody>\n",
       "    <tr>\n",
       "      <th>0</th>\n",
       "      <td>worldcom ex boss launch defenc lawyer defend f...</td>\n",
       "      <td>business</td>\n",
       "    </tr>\n",
       "    <tr>\n",
       "      <th>1</th>\n",
       "      <td>german busi confid slide german busi confid fe...</td>\n",
       "      <td>business</td>\n",
       "    </tr>\n",
       "    <tr>\n",
       "      <th>2</th>\n",
       "      <td>bbc poll indic econom gloom citizen major nati...</td>\n",
       "      <td>business</td>\n",
       "    </tr>\n",
       "    <tr>\n",
       "      <th>3</th>\n",
       "      <td>lifestyl govern mobil choic faster better funk...</td>\n",
       "      <td>tech</td>\n",
       "    </tr>\n",
       "    <tr>\n",
       "      <th>4</th>\n",
       "      <td>enron boss payout eighteen former enron direct...</td>\n",
       "      <td>business</td>\n",
       "    </tr>\n",
       "    <tr>\n",
       "      <th>...</th>\n",
       "      <td>...</td>\n",
       "      <td>...</td>\n",
       "    </tr>\n",
       "    <tr>\n",
       "      <th>1485</th>\n",
       "      <td>doubl evict big brother model capric holbi cit...</td>\n",
       "      <td>entertainment</td>\n",
       "    </tr>\n",
       "    <tr>\n",
       "      <th>1486</th>\n",
       "      <td>dj doubl act revamp chart show dj duo jk joel ...</td>\n",
       "      <td>entertainment</td>\n",
       "    </tr>\n",
       "    <tr>\n",
       "      <th>1487</th>\n",
       "      <td>weak dollar hit reuter revenu media group reut...</td>\n",
       "      <td>business</td>\n",
       "    </tr>\n",
       "    <tr>\n",
       "      <th>1488</th>\n",
       "      <td>appl ipod famili expand market appl expand ipo...</td>\n",
       "      <td>tech</td>\n",
       "    </tr>\n",
       "    <tr>\n",
       "      <th>1489</th>\n",
       "      <td>santi worm make unwelcom visit thousand websit...</td>\n",
       "      <td>tech</td>\n",
       "    </tr>\n",
       "  </tbody>\n",
       "</table>\n",
       "<p>1440 rows × 2 columns</p>\n",
       "</div>"
      ],
      "text/plain": [
       "                                                   Text       Category\n",
       "0     worldcom ex boss launch defenc lawyer defend f...       business\n",
       "1     german busi confid slide german busi confid fe...       business\n",
       "2     bbc poll indic econom gloom citizen major nati...       business\n",
       "3     lifestyl govern mobil choic faster better funk...           tech\n",
       "4     enron boss payout eighteen former enron direct...       business\n",
       "...                                                 ...            ...\n",
       "1485  doubl evict big brother model capric holbi cit...  entertainment\n",
       "1486  dj doubl act revamp chart show dj duo jk joel ...  entertainment\n",
       "1487  weak dollar hit reuter revenu media group reut...       business\n",
       "1488  appl ipod famili expand market appl expand ipo...           tech\n",
       "1489  santi worm make unwelcom visit thousand websit...           tech\n",
       "\n",
       "[1440 rows x 2 columns]"
      ]
     },
     "execution_count": 8,
     "metadata": {},
     "output_type": "execute_result"
    }
   ],
   "source": [
    "## \"\"\"NLP process\"\"\"\n",
    "import nltk \n",
    "nltk.download('stopwords')\n",
    "\n",
    "import regex as re\n",
    "from nltk.corpus import stopwords\n",
    "stopwords = stopwords.words('english')\n",
    "\n",
    "from nltk.stem.porter import PorterStemmer as stemmer\n",
    "stemmer = stemmer()\n",
    "\n",
    "def Research(ONA):\n",
    "    ONA = ONA.lower()\n",
    "    ONA = re.sub(\"[^a-z]+\", \" \", ONA)\n",
    "    ONA = \" \".join([A for A in ONA.split() if A not in stopwords])\n",
    "    ONA=' '.join([stemmer.stem(A) for A in ONA.split()])\n",
    "    return ONA\n",
    "\n",
    "text=[]\n",
    "for c in Dataset1['Text']:\n",
    "    text.append(Research(c))\n",
    "Dataset1['Text']=text\n",
    "Dataset1"
   ]
  },
  {
   "cell_type": "code",
   "execution_count": 12,
   "metadata": {
    "colab": {
     "base_uri": "https://localhost:8080/",
     "height": 487
    },
    "executionInfo": {
     "elapsed": 581,
     "status": "ok",
     "timestamp": 1701103160718,
     "user": {
      "displayName": "Jada Projects",
      "userId": "08763996031315654589"
     },
     "user_tz": -330
    },
    "id": "BY7MwGAQpAv5",
    "outputId": "bd8ba670-2095-4ad9-c190-34397052fe88"
   },
   "outputs": [
    {
     "data": {
      "image/png": "[encoded data removed]",
      "text/plain": [
       "<Figure size 700x500 with 1 Axes>"
      ]
     },
     "metadata": {},
     "output_type": "display_data"
    }
   ],
   "source": [
    "import seaborn as sns\n",
    "import matplotlib.pyplot as plt\n",
    "plt.figure(figsize=(7, 5))\n",
    "\n",
    "sns.countplot(y ='Category', data = Dataset1, color='maroon')\n",
    "plt.title(\"Online News Article Category\")\n",
    "plt.show()"
   ]
  },
  {
   "cell_type": "markdown",
   "metadata": {
    "id": "2eobcuQcx58P"
   },
   "source": [
    "* Sport category having high count of news."
   ]
  },
  {
   "cell_type": "code",
   "execution_count": 14,
   "metadata": {
    "colab": {
     "base_uri": "https://localhost:8080/"
    },
    "executionInfo": {
     "elapsed": 17,
     "status": "ok",
     "timestamp": 1701103347559,
     "user": {
      "displayName": "Jada Projects",
      "userId": "08763996031315654589"
     },
     "user_tz": -330
    },
    "id": "dzjGpYigp8R5",
    "outputId": "8adfcece-8f54-4d6a-96d5-54f620a051b7"
   },
   "outputs": [
    {
     "data": {
      "text/plain": [
       "(1440, 2)"
      ]
     },
     "execution_count": 14,
     "metadata": {},
     "output_type": "execute_result"
    }
   ],
   "source": [
    "Dataset1.to_csv('Dataset1.csv', index=False)\n",
    "Dataset1.shape"
   ]
  },
  {
   "cell_type": "markdown",
   "metadata": {
    "id": "EneR0awjlOTV"
   },
   "source": [
    "## Online news article data- II"
   ]
  },
  {
   "cell_type": "code",
   "execution_count": 16,
   "metadata": {
    "colab": {
     "base_uri": "https://localhost:8080/",
     "height": 423
    },
    "executionInfo": {
     "elapsed": 1324,
     "status": "ok",
     "timestamp": 1701103783859,
     "user": {
      "displayName": "Jada Projects",
      "userId": "08763996031315654589"
     },
     "user_tz": -330
    },
    "id": "uUSHoMs9lPfQ",
    "outputId": "7a5a6120-d49f-448f-dd7e-4514f96f2adc"
   },
   "outputs": [
    {
     "data": {
      "text/html": [
       "<div>\n",
       "<style scoped>\n",
       "    .dataframe tbody tr th:only-of-type {\n",
       "        vertical-align: middle;\n",
       "    }\n",
       "\n",
       "    .dataframe tbody tr th {\n",
       "        vertical-align: top;\n",
       "    }\n",
       "\n",
       "    .dataframe thead th {\n",
       "        text-align: right;\n",
       "    }\n",
       "</style>\n",
       "<table border=\"1\" class=\"dataframe\">\n",
       "  <thead>\n",
       "    <tr style=\"text-align: right;\">\n",
       "      <th></th>\n",
       "      <th>category</th>\n",
       "      <th>title</th>\n",
       "      <th>body</th>\n",
       "    </tr>\n",
       "  </thead>\n",
       "  <tbody>\n",
       "    <tr>\n",
       "      <th>0</th>\n",
       "      <td>ARTS &amp; CULTURE</td>\n",
       "      <td>Modeling Agencies Enabled Sexual Predators For...</td>\n",
       "      <td>In October 2017, Carolyn Kramer received a dis...</td>\n",
       "    </tr>\n",
       "    <tr>\n",
       "      <th>1</th>\n",
       "      <td>ARTS &amp; CULTURE</td>\n",
       "      <td>Actor Jeff Hiller Talks “Bright Colors And Bol...</td>\n",
       "      <td>This week I talked with actor Jeff Hiller abou...</td>\n",
       "    </tr>\n",
       "    <tr>\n",
       "      <th>2</th>\n",
       "      <td>ARTS &amp; CULTURE</td>\n",
       "      <td>New Yorker Cover Puts Trump 'In The Hole' Afte...</td>\n",
       "      <td>The New Yorker is taking on President Donald T...</td>\n",
       "    </tr>\n",
       "    <tr>\n",
       "      <th>3</th>\n",
       "      <td>ARTS &amp; CULTURE</td>\n",
       "      <td>Man Surprises Girlfriend By Drawing Them In Di...</td>\n",
       "      <td>Kellen Hickey, a 26-year-old who lives in Huds...</td>\n",
       "    </tr>\n",
       "    <tr>\n",
       "      <th>4</th>\n",
       "      <td>ARTS &amp; CULTURE</td>\n",
       "      <td>This Artist Gives Renaissance-Style Sculptures...</td>\n",
       "      <td>There’s something about combining the traditio...</td>\n",
       "    </tr>\n",
       "    <tr>\n",
       "      <th>...</th>\n",
       "      <td>...</td>\n",
       "      <td>...</td>\n",
       "      <td>...</td>\n",
       "    </tr>\n",
       "    <tr>\n",
       "      <th>6872</th>\n",
       "      <td>WOMEN</td>\n",
       "      <td>Casually Fearless: Why Millennials Are Natural...</td>\n",
       "      <td>I still think about that Tuesday night dinner ...</td>\n",
       "    </tr>\n",
       "    <tr>\n",
       "      <th>6873</th>\n",
       "      <td>WOMEN</td>\n",
       "      <td>Happy Birthday To Us</td>\n",
       "      <td>I remember the morning of my high school gradu...</td>\n",
       "    </tr>\n",
       "    <tr>\n",
       "      <th>6874</th>\n",
       "      <td>WOMEN</td>\n",
       "      <td>The Culture of Love</td>\n",
       "      <td>My husband, Gene, doesn't wear pajamas. I aske...</td>\n",
       "    </tr>\n",
       "    <tr>\n",
       "      <th>6875</th>\n",
       "      <td>WOMEN</td>\n",
       "      <td>Carpe Diem, Oprah Style</td>\n",
       "      <td>\\nBy AntonioGuillem, via ThinkStock\\nBy  Lisa ...</td>\n",
       "    </tr>\n",
       "    <tr>\n",
       "      <th>6876</th>\n",
       "      <td>WOMEN</td>\n",
       "      <td>My Month of Online Dating Detox</td>\n",
       "      <td>My name is Jamie and I'm an online date-aholic...</td>\n",
       "    </tr>\n",
       "  </tbody>\n",
       "</table>\n",
       "<p>6877 rows × 3 columns</p>\n",
       "</div>"
      ],
      "text/plain": [
       "            category                                              title  \\\n",
       "0     ARTS & CULTURE  Modeling Agencies Enabled Sexual Predators For...   \n",
       "1     ARTS & CULTURE  Actor Jeff Hiller Talks “Bright Colors And Bol...   \n",
       "2     ARTS & CULTURE  New Yorker Cover Puts Trump 'In The Hole' Afte...   \n",
       "3     ARTS & CULTURE  Man Surprises Girlfriend By Drawing Them In Di...   \n",
       "4     ARTS & CULTURE  This Artist Gives Renaissance-Style Sculptures...   \n",
       "...              ...                                                ...   \n",
       "6872           WOMEN  Casually Fearless: Why Millennials Are Natural...   \n",
       "6873           WOMEN                               Happy Birthday To Us   \n",
       "6874           WOMEN                                The Culture of Love   \n",
       "6875           WOMEN                            Carpe Diem, Oprah Style   \n",
       "6876           WOMEN                    My Month of Online Dating Detox   \n",
       "\n",
       "                                                   body  \n",
       "0     In October 2017, Carolyn Kramer received a dis...  \n",
       "1     This week I talked with actor Jeff Hiller abou...  \n",
       "2     The New Yorker is taking on President Donald T...  \n",
       "3     Kellen Hickey, a 26-year-old who lives in Huds...  \n",
       "4     There’s something about combining the traditio...  \n",
       "...                                                 ...  \n",
       "6872  I still think about that Tuesday night dinner ...  \n",
       "6873  I remember the morning of my high school gradu...  \n",
       "6874  My husband, Gene, doesn't wear pajamas. I aske...  \n",
       "6875  \\nBy AntonioGuillem, via ThinkStock\\nBy  Lisa ...  \n",
       "6876  My name is Jamie and I'm an online date-aholic...  \n",
       "\n",
       "[6877 rows x 3 columns]"
      ]
     },
     "execution_count": 16,
     "metadata": {},
     "output_type": "execute_result"
    }
   ],
   "source": [
    "Dataset2 = pd.read_csv('news-article-categories.csv')\n",
    "Dataset2"
   ]
  },
  {
   "cell_type": "code",
   "execution_count": 17,
   "metadata": {
    "colab": {
     "base_uri": "https://localhost:8080/"
    },
    "executionInfo": {
     "elapsed": 667,
     "status": "ok",
     "timestamp": 1701103798517,
     "user": {
      "displayName": "Jada Projects",
      "userId": "08763996031315654589"
     },
     "user_tz": -330
    },
    "id": "-c7qvaa_lPjW",
    "outputId": "5e74563a-3bdf-4894-8502-dc4dc370186e"
   },
   "outputs": [
    {
     "data": {
      "text/plain": [
       "category\n",
       "ARTS & CULTURE    1002\n",
       "BUSINESS           501\n",
       "ENTERTAINMENT      501\n",
       "ENVIRONMENT        501\n",
       "POLITICS           501\n",
       "RELIGION           501\n",
       "SPORTS             501\n",
       "TECH               501\n",
       "WOMEN              501\n",
       "EDUCATION          490\n",
       "COMEDY             380\n",
       "SCIENCE            350\n",
       "MEDIA              347\n",
       "CRIME              300\n",
       "Name: count, dtype: int64"
      ]
     },
     "execution_count": 17,
     "metadata": {},
     "output_type": "execute_result"
    }
   ],
   "source": [
    "Dataset2['category'].value_counts()"
   ]
  },
  {
   "cell_type": "markdown",
   "metadata": {
    "id": "ZnuUBoTq9rz5"
   },
   "source": [
    "* Fourteen classes in output category....."
   ]
  },
  {
   "cell_type": "markdown",
   "metadata": {
    "id": "-YbgKNAIqmog"
   },
   "source": [
    "##  Data Pre-processing: "
   ]
  },
  {
   "cell_type": "code",
   "execution_count": 18,
   "metadata": {
    "executionInfo": {
     "elapsed": 8,
     "status": "ok",
     "timestamp": 1701103833971,
     "user": {
      "displayName": "Jada Projects",
      "userId": "08763996031315654589"
     },
     "user_tz": -330
    },
    "id": "nJzpPlnTlPmW"
   },
   "outputs": [],
   "source": [
    "del Dataset2['title']"
   ]
  },
  {
   "cell_type": "code",
   "execution_count": 19,
   "metadata": {
    "colab": {
     "base_uri": "https://localhost:8080/"
    },
    "executionInfo": {
     "elapsed": 507,
     "status": "ok",
     "timestamp": 1701103845756,
     "user": {
      "displayName": "Jada Projects",
      "userId": "08763996031315654589"
     },
     "user_tz": -330
    },
    "id": "qvFp7o07lPp0",
    "outputId": "e524c536-05e6-4db1-bc2e-2703789b3522"
   },
   "outputs": [
    {
     "data": {
      "text/plain": [
       "5"
      ]
     },
     "execution_count": 19,
     "metadata": {},
     "output_type": "execute_result"
    }
   ],
   "source": [
    "Dataset2.isnull().values.sum()"
   ]
  },
  {
   "cell_type": "code",
   "execution_count": 20,
   "metadata": {
    "executionInfo": {
     "elapsed": 10,
     "status": "ok",
     "timestamp": 1701103894902,
     "user": {
      "displayName": "Jada Projects",
      "userId": "08763996031315654589"
     },
     "user_tz": -330
    },
    "id": "msSwcNM5sM0W"
   },
   "outputs": [],
   "source": [
    "Dataset2=Dataset2.dropna()"
   ]
  },
  {
   "cell_type": "code",
   "execution_count": 21,
   "metadata": {
    "colab": {
     "base_uri": "https://localhost:8080/"
    },
    "executionInfo": {
     "elapsed": 12,
     "status": "ok",
     "timestamp": 1701103897374,
     "user": {
      "displayName": "Jada Projects",
      "userId": "08763996031315654589"
     },
     "user_tz": -330
    },
    "id": "u05RGBoNqual",
    "outputId": "6f27448f-f038-42e0-f513-bb4f6731ad2a"
   },
   "outputs": [
    {
     "name": "stdout",
     "output_type": "stream",
     "text": [
      "rows shape - duplicates found\n"
     ]
    },
    {
     "data": {
      "text/plain": [
       "57"
      ]
     },
     "execution_count": 21,
     "metadata": {},
     "output_type": "execute_result"
    }
   ],
   "source": [
    "print(\"rows shape - duplicates found\")\n",
    "(Dataset2[Dataset2.duplicated()]).shape[0]"
   ]
  },
  {
   "cell_type": "code",
   "execution_count": 22,
   "metadata": {
    "colab": {
     "base_uri": "https://localhost:8080/",
     "height": 423
    },
    "executionInfo": {
     "elapsed": 770,
     "status": "ok",
     "timestamp": 1701103923820,
     "user": {
      "displayName": "Jada Projects",
      "userId": "08763996031315654589"
     },
     "user_tz": -330
    },
    "id": "wfHETzOosaCa",
    "outputId": "230b6a5f-4835-4617-e895-333dac7a9ff4"
   },
   "outputs": [
    {
     "data": {
      "text/html": [
       "<div>\n",
       "<style scoped>\n",
       "    .dataframe tbody tr th:only-of-type {\n",
       "        vertical-align: middle;\n",
       "    }\n",
       "\n",
       "    .dataframe tbody tr th {\n",
       "        vertical-align: top;\n",
       "    }\n",
       "\n",
       "    .dataframe thead th {\n",
       "        text-align: right;\n",
       "    }\n",
       "</style>\n",
       "<table border=\"1\" class=\"dataframe\">\n",
       "  <thead>\n",
       "    <tr style=\"text-align: right;\">\n",
       "      <th></th>\n",
       "      <th>category</th>\n",
       "      <th>body</th>\n",
       "    </tr>\n",
       "  </thead>\n",
       "  <tbody>\n",
       "    <tr>\n",
       "      <th>0</th>\n",
       "      <td>ARTS &amp; CULTURE</td>\n",
       "      <td>In October 2017, Carolyn Kramer received a dis...</td>\n",
       "    </tr>\n",
       "    <tr>\n",
       "      <th>1</th>\n",
       "      <td>ARTS &amp; CULTURE</td>\n",
       "      <td>This week I talked with actor Jeff Hiller abou...</td>\n",
       "    </tr>\n",
       "    <tr>\n",
       "      <th>2</th>\n",
       "      <td>ARTS &amp; CULTURE</td>\n",
       "      <td>The New Yorker is taking on President Donald T...</td>\n",
       "    </tr>\n",
       "    <tr>\n",
       "      <th>3</th>\n",
       "      <td>ARTS &amp; CULTURE</td>\n",
       "      <td>Kellen Hickey, a 26-year-old who lives in Huds...</td>\n",
       "    </tr>\n",
       "    <tr>\n",
       "      <th>4</th>\n",
       "      <td>ARTS &amp; CULTURE</td>\n",
       "      <td>There’s something about combining the traditio...</td>\n",
       "    </tr>\n",
       "    <tr>\n",
       "      <th>...</th>\n",
       "      <td>...</td>\n",
       "      <td>...</td>\n",
       "    </tr>\n",
       "    <tr>\n",
       "      <th>6872</th>\n",
       "      <td>WOMEN</td>\n",
       "      <td>I still think about that Tuesday night dinner ...</td>\n",
       "    </tr>\n",
       "    <tr>\n",
       "      <th>6873</th>\n",
       "      <td>WOMEN</td>\n",
       "      <td>I remember the morning of my high school gradu...</td>\n",
       "    </tr>\n",
       "    <tr>\n",
       "      <th>6874</th>\n",
       "      <td>WOMEN</td>\n",
       "      <td>My husband, Gene, doesn't wear pajamas. I aske...</td>\n",
       "    </tr>\n",
       "    <tr>\n",
       "      <th>6875</th>\n",
       "      <td>WOMEN</td>\n",
       "      <td>\\nBy AntonioGuillem, via ThinkStock\\nBy  Lisa ...</td>\n",
       "    </tr>\n",
       "    <tr>\n",
       "      <th>6876</th>\n",
       "      <td>WOMEN</td>\n",
       "      <td>My name is Jamie and I'm an online date-aholic...</td>\n",
       "    </tr>\n",
       "  </tbody>\n",
       "</table>\n",
       "<p>6815 rows × 2 columns</p>\n",
       "</div>"
      ],
      "text/plain": [
       "            category                                               body\n",
       "0     ARTS & CULTURE  In October 2017, Carolyn Kramer received a dis...\n",
       "1     ARTS & CULTURE  This week I talked with actor Jeff Hiller abou...\n",
       "2     ARTS & CULTURE  The New Yorker is taking on President Donald T...\n",
       "3     ARTS & CULTURE  Kellen Hickey, a 26-year-old who lives in Huds...\n",
       "4     ARTS & CULTURE  There’s something about combining the traditio...\n",
       "...              ...                                                ...\n",
       "6872           WOMEN  I still think about that Tuesday night dinner ...\n",
       "6873           WOMEN  I remember the morning of my high school gradu...\n",
       "6874           WOMEN  My husband, Gene, doesn't wear pajamas. I aske...\n",
       "6875           WOMEN  \\nBy AntonioGuillem, via ThinkStock\\nBy  Lisa ...\n",
       "6876           WOMEN  My name is Jamie and I'm an online date-aholic...\n",
       "\n",
       "[6815 rows x 2 columns]"
      ]
     },
     "execution_count": 22,
     "metadata": {},
     "output_type": "execute_result"
    }
   ],
   "source": [
    "Dataset2 = Dataset2.drop_duplicates()\n",
    "Dataset2"
   ]
  },
  {
   "cell_type": "code",
   "execution_count": 25,
   "metadata": {
    "colab": {
     "base_uri": "https://localhost:8080/",
     "height": 423
    },
    "executionInfo": {
     "elapsed": 85100,
     "status": "ok",
     "timestamp": 1701104264617,
     "user": {
      "displayName": "Jada Projects",
      "userId": "08763996031315654589"
     },
     "user_tz": -330
    },
    "id": "t1B8Lc_Kquej",
    "outputId": "b588ddc0-17e6-4f4d-a0c1-ad11b9bbcfcc"
   },
   "outputs": [
    {
     "data": {
      "text/html": [
       "<div>\n",
       "<style scoped>\n",
       "    .dataframe tbody tr th:only-of-type {\n",
       "        vertical-align: middle;\n",
       "    }\n",
       "\n",
       "    .dataframe tbody tr th {\n",
       "        vertical-align: top;\n",
       "    }\n",
       "\n",
       "    .dataframe thead th {\n",
       "        text-align: right;\n",
       "    }\n",
       "</style>\n",
       "<table border=\"1\" class=\"dataframe\">\n",
       "  <thead>\n",
       "    <tr style=\"text-align: right;\">\n",
       "      <th></th>\n",
       "      <th>category</th>\n",
       "      <th>body</th>\n",
       "    </tr>\n",
       "  </thead>\n",
       "  <tbody>\n",
       "    <tr>\n",
       "      <th>0</th>\n",
       "      <td>ARTS &amp; CULTURE</td>\n",
       "      <td>octob carolyn kramer receiv disturb phone call...</td>\n",
       "    </tr>\n",
       "    <tr>\n",
       "      <th>1</th>\n",
       "      <td>ARTS &amp; CULTURE</td>\n",
       "      <td>week talk actor jeff hiller hit broadway play ...</td>\n",
       "    </tr>\n",
       "    <tr>\n",
       "      <th>2</th>\n",
       "      <td>ARTS &amp; CULTURE</td>\n",
       "      <td>new yorker take presid donald trump ask u woul...</td>\n",
       "    </tr>\n",
       "    <tr>\n",
       "      <th>3</th>\n",
       "      <td>ARTS &amp; CULTURE</td>\n",
       "      <td>kellen hickey year old live hudson wisconsin g...</td>\n",
       "    </tr>\n",
       "    <tr>\n",
       "      <th>4</th>\n",
       "      <td>ARTS &amp; CULTURE</td>\n",
       "      <td>someth combin tradit uptight look renaiss peri...</td>\n",
       "    </tr>\n",
       "    <tr>\n",
       "      <th>...</th>\n",
       "      <td>...</td>\n",
       "      <td>...</td>\n",
       "    </tr>\n",
       "    <tr>\n",
       "      <th>6872</th>\n",
       "      <td>WOMEN</td>\n",
       "      <td>still think tuesday night dinner year old daug...</td>\n",
       "    </tr>\n",
       "    <tr>\n",
       "      <th>6873</th>\n",
       "      <td>WOMEN</td>\n",
       "      <td>rememb morn high school graduat clearli put wh...</td>\n",
       "    </tr>\n",
       "    <tr>\n",
       "      <th>6874</th>\n",
       "      <td>WOMEN</td>\n",
       "      <td>husband gene wear pajama ask told never pajama...</td>\n",
       "    </tr>\n",
       "    <tr>\n",
       "      <th>6875</th>\n",
       "      <td>WOMEN</td>\n",
       "      <td>antonioguillem via thinkstock lisa donoghu lin...</td>\n",
       "    </tr>\n",
       "    <tr>\n",
       "      <th>6876</th>\n",
       "      <td>WOMEN</td>\n",
       "      <td>name jami onlin date ahol better part last eig...</td>\n",
       "    </tr>\n",
       "  </tbody>\n",
       "</table>\n",
       "<p>6815 rows × 2 columns</p>\n",
       "</div>"
      ],
      "text/plain": [
       "            category                                               body\n",
       "0     ARTS & CULTURE  octob carolyn kramer receiv disturb phone call...\n",
       "1     ARTS & CULTURE  week talk actor jeff hiller hit broadway play ...\n",
       "2     ARTS & CULTURE  new yorker take presid donald trump ask u woul...\n",
       "3     ARTS & CULTURE  kellen hickey year old live hudson wisconsin g...\n",
       "4     ARTS & CULTURE  someth combin tradit uptight look renaiss peri...\n",
       "...              ...                                                ...\n",
       "6872           WOMEN  still think tuesday night dinner year old daug...\n",
       "6873           WOMEN  rememb morn high school graduat clearli put wh...\n",
       "6874           WOMEN  husband gene wear pajama ask told never pajama...\n",
       "6875           WOMEN  antonioguillem via thinkstock lisa donoghu lin...\n",
       "6876           WOMEN  name jami onlin date ahol better part last eig...\n",
       "\n",
       "[6815 rows x 2 columns]"
      ]
     },
     "execution_count": 25,
     "metadata": {},
     "output_type": "execute_result"
    }
   ],
   "source": [
    "## \"\"\"NLP process\"\"\"\n",
    "\n",
    "def Research(ONA):\n",
    "    ONA = ONA.lower()\n",
    "    ONA = re.sub(\"[^a-z]+\", \" \", ONA)\n",
    "    ONA = \" \".join([A for A in ONA.split() if A not in stopwords])\n",
    "    ONA=' '.join([stemmer.stem(A) for A in ONA.split()])\n",
    "    return ONA\n",
    "\n",
    "text2=[]\n",
    "for c in Dataset2['body']:\n",
    "    text2.append(Research(c))\n",
    "Dataset2['body']=text2\n",
    "Dataset2"
   ]
  },
  {
   "cell_type": "code",
   "execution_count": 26,
   "metadata": {
    "colab": {
     "base_uri": "https://localhost:8080/",
     "height": 472
    },
    "executionInfo": {
     "elapsed": 1260,
     "status": "ok",
     "timestamp": 1701104277720,
     "user": {
      "displayName": "Jada Projects",
      "userId": "08763996031315654589"
     },
     "user_tz": -330
    },
    "id": "JzsIETGKquhl",
    "outputId": "8eae442e-b383-49f6-9fc5-a2762d85811b"
   },
   "outputs": [
    {
     "data": {
      "image/png": "[encoded data removed]",
      "text/plain": [
       "<Figure size 640x480 with 1 Axes>"
      ]
     },
     "metadata": {},
     "output_type": "display_data"
    }
   ],
   "source": [
    "sns.countplot(y ='category', data = Dataset2, color='maroon')\n",
    "plt.title(\"Online News Article Category\")\n",
    "plt.show()"
   ]
  },
  {
   "cell_type": "markdown",
   "metadata": {
    "id": "8GYFNY_SxtU8"
   },
   "source": [
    "* Art & Culture category having high count of news."
   ]
  },
  {
   "cell_type": "code",
   "execution_count": 27,
   "metadata": {
    "colab": {
     "base_uri": "https://localhost:8080/"
    },
    "executionInfo": {
     "elapsed": 891,
     "status": "ok",
     "timestamp": 1701104289270,
     "user": {
      "displayName": "Jada Projects",
      "userId": "08763996031315654589"
     },
     "user_tz": -330
    },
    "id": "7nZyy3xKlPtB",
    "outputId": "004786bb-c1cb-4485-ede8-651433f78ec8"
   },
   "outputs": [
    {
     "data": {
      "text/plain": [
       "(6815, 2)"
      ]
     },
     "execution_count": 27,
     "metadata": {},
     "output_type": "execute_result"
    }
   ],
   "source": [
    "Dataset2.to_csv('Dataset2.csv', index=False)\n",
    "Dataset2.shape"
   ]
  },
  {
   "cell_type": "markdown",
   "metadata": {
    "id": "llKNVX0rlQbG"
   },
   "source": [
    "## Online news article data- III"
   ]
  },
  {
   "cell_type": "code",
   "execution_count": 30,
   "metadata": {
    "colab": {
     "base_uri": "https://localhost:8080/",
     "height": 423
    },
    "executionInfo": {
     "elapsed": 729,
     "status": "ok",
     "timestamp": 1701105240906,
     "user": {
      "displayName": "Jada Projects",
      "userId": "08763996031315654589"
     },
     "user_tz": -330
    },
    "id": "WMMj7aYTlSAS",
    "outputId": "09b46c60-0319-4766-ba4c-be9f08fd3405"
   },
   "outputs": [
    {
     "data": {
      "text/html": [
       "<div>\n",
       "<style scoped>\n",
       "    .dataframe tbody tr th:only-of-type {\n",
       "        vertical-align: middle;\n",
       "    }\n",
       "\n",
       "    .dataframe tbody tr th {\n",
       "        vertical-align: top;\n",
       "    }\n",
       "\n",
       "    .dataframe thead th {\n",
       "        text-align: right;\n",
       "    }\n",
       "</style>\n",
       "<table border=\"1\" class=\"dataframe\">\n",
       "  <thead>\n",
       "    <tr style=\"text-align: right;\">\n",
       "      <th></th>\n",
       "      <th>Class Index</th>\n",
       "      <th>Title</th>\n",
       "      <th>Description</th>\n",
       "    </tr>\n",
       "  </thead>\n",
       "  <tbody>\n",
       "    <tr>\n",
       "      <th>0</th>\n",
       "      <td>3</td>\n",
       "      <td>Wall St. Bears Claw Back Into the Black (Reuters)</td>\n",
       "      <td>Reuters - Short-sellers, Wall Street's dwindli...</td>\n",
       "    </tr>\n",
       "    <tr>\n",
       "      <th>1</th>\n",
       "      <td>3</td>\n",
       "      <td>Carlyle Looks Toward Commercial Aerospace (Reu...</td>\n",
       "      <td>Reuters - Private investment firm Carlyle Grou...</td>\n",
       "    </tr>\n",
       "    <tr>\n",
       "      <th>2</th>\n",
       "      <td>3</td>\n",
       "      <td>Oil and Economy Cloud Stocks' Outlook (Reuters)</td>\n",
       "      <td>Reuters - Soaring crude prices plus worries\\ab...</td>\n",
       "    </tr>\n",
       "    <tr>\n",
       "      <th>3</th>\n",
       "      <td>3</td>\n",
       "      <td>Iraq Halts Oil Exports from Main Southern Pipe...</td>\n",
       "      <td>Reuters - Authorities have halted oil export\\f...</td>\n",
       "    </tr>\n",
       "    <tr>\n",
       "      <th>4</th>\n",
       "      <td>3</td>\n",
       "      <td>Oil prices soar to all-time record, posing new...</td>\n",
       "      <td>AFP - Tearaway world oil prices, toppling reco...</td>\n",
       "    </tr>\n",
       "    <tr>\n",
       "      <th>...</th>\n",
       "      <td>...</td>\n",
       "      <td>...</td>\n",
       "      <td>...</td>\n",
       "    </tr>\n",
       "    <tr>\n",
       "      <th>7595</th>\n",
       "      <td>1</td>\n",
       "      <td>Around the world</td>\n",
       "      <td>Ukrainian presidential candidate Viktor Yushch...</td>\n",
       "    </tr>\n",
       "    <tr>\n",
       "      <th>7596</th>\n",
       "      <td>2</td>\n",
       "      <td>Void is filled with Clement</td>\n",
       "      <td>With the supply of attractive pitching options...</td>\n",
       "    </tr>\n",
       "    <tr>\n",
       "      <th>7597</th>\n",
       "      <td>2</td>\n",
       "      <td>Martinez leaves bitter</td>\n",
       "      <td>Like Roger Clemens did almost exactly eight ye...</td>\n",
       "    </tr>\n",
       "    <tr>\n",
       "      <th>7598</th>\n",
       "      <td>3</td>\n",
       "      <td>5 of arthritis patients in Singapore take Bext...</td>\n",
       "      <td>SINGAPORE : Doctors in the United States have ...</td>\n",
       "    </tr>\n",
       "    <tr>\n",
       "      <th>7599</th>\n",
       "      <td>3</td>\n",
       "      <td>EBay gets into rentals</td>\n",
       "      <td>EBay plans to buy the apartment and home renta...</td>\n",
       "    </tr>\n",
       "  </tbody>\n",
       "</table>\n",
       "<p>127600 rows × 3 columns</p>\n",
       "</div>"
      ],
      "text/plain": [
       "      Class Index                                              Title  \\\n",
       "0               3  Wall St. Bears Claw Back Into the Black (Reuters)   \n",
       "1               3  Carlyle Looks Toward Commercial Aerospace (Reu...   \n",
       "2               3    Oil and Economy Cloud Stocks' Outlook (Reuters)   \n",
       "3               3  Iraq Halts Oil Exports from Main Southern Pipe...   \n",
       "4               3  Oil prices soar to all-time record, posing new...   \n",
       "...           ...                                                ...   \n",
       "7595            1                                   Around the world   \n",
       "7596            2                        Void is filled with Clement   \n",
       "7597            2                             Martinez leaves bitter   \n",
       "7598            3  5 of arthritis patients in Singapore take Bext...   \n",
       "7599            3                             EBay gets into rentals   \n",
       "\n",
       "                                            Description  \n",
       "0     Reuters - Short-sellers, Wall Street's dwindli...  \n",
       "1     Reuters - Private investment firm Carlyle Grou...  \n",
       "2     Reuters - Soaring crude prices plus worries\\ab...  \n",
       "3     Reuters - Authorities have halted oil export\\f...  \n",
       "4     AFP - Tearaway world oil prices, toppling reco...  \n",
       "...                                                 ...  \n",
       "7595  Ukrainian presidential candidate Viktor Yushch...  \n",
       "7596  With the supply of attractive pitching options...  \n",
       "7597  Like Roger Clemens did almost exactly eight ye...  \n",
       "7598  SINGAPORE : Doctors in the United States have ...  \n",
       "7599  EBay plans to buy the apartment and home renta...  \n",
       "\n",
       "[127600 rows x 3 columns]"
      ]
     },
     "execution_count": 30,
     "metadata": {},
     "output_type": "execute_result"
    }
   ],
   "source": [
    "A = pd.read_csv('train.csv')\n",
    "B = pd.read_csv('test.csv')\n",
    "\n",
    "Dataset3 = pd.concat([A,B])\n",
    "Dataset3"
   ]
  },
  {
   "cell_type": "markdown",
   "metadata": {
    "id": "WflhWpCeuVH6"
   },
   "source": [
    " 1-World, 2-Sports, 3-Business, 4-Sci/Tech"
   ]
  },
  {
   "cell_type": "code",
   "execution_count": 31,
   "metadata": {
    "colab": {
     "base_uri": "https://localhost:8080/"
    },
    "executionInfo": {
     "elapsed": 15,
     "status": "ok",
     "timestamp": 1701105244204,
     "user": {
      "displayName": "Jada Projects",
      "userId": "08763996031315654589"
     },
     "user_tz": -330
    },
    "id": "UMV9ripRlSDu",
    "outputId": "a1e509dc-2f6c-42fa-c94b-7fbafe22aa0d"
   },
   "outputs": [
    {
     "data": {
      "text/plain": [
       "Class Index\n",
       "3    31900\n",
       "4    31900\n",
       "2    31900\n",
       "1    31900\n",
       "Name: count, dtype: int64"
      ]
     },
     "execution_count": 31,
     "metadata": {},
     "output_type": "execute_result"
    }
   ],
   "source": [
    "Dataset3['Class Index'].value_counts()"
   ]
  },
  {
   "cell_type": "markdown",
   "metadata": {
    "id": "sOzH1sAP9vyp"
   },
   "source": [
    "* Four classes in output category....."
   ]
  },
  {
   "cell_type": "markdown",
   "metadata": {
    "id": "s0e2XuywqnR5"
   },
   "source": [
    "## Data Pre-processing"
   ]
  },
  {
   "cell_type": "code",
   "execution_count": 32,
   "metadata": {
    "executionInfo": {
     "elapsed": 4,
     "status": "ok",
     "timestamp": 1701105247235,
     "user": {
      "displayName": "Jada Projects",
      "userId": "08763996031315654589"
     },
     "user_tz": -330
    },
    "id": "vcIlXd5SlSGn"
   },
   "outputs": [],
   "source": [
    "del Dataset3['Title']"
   ]
  },
  {
   "cell_type": "code",
   "execution_count": 33,
   "metadata": {
    "colab": {
     "base_uri": "https://localhost:8080/"
    },
    "executionInfo": {
     "elapsed": 689,
     "status": "ok",
     "timestamp": 1701105248745,
     "user": {
      "displayName": "Jada Projects",
      "userId": "08763996031315654589"
     },
     "user_tz": -330
    },
    "id": "noWegHyslSJh",
    "outputId": "8d6bd775-036f-42fc-c6d0-1de711f4af0c"
   },
   "outputs": [
    {
     "data": {
      "text/plain": [
       "0"
      ]
     },
     "execution_count": 33,
     "metadata": {},
     "output_type": "execute_result"
    }
   ],
   "source": [
    "Dataset3.isnull().values.sum()"
   ]
  },
  {
   "cell_type": "code",
   "execution_count": 34,
   "metadata": {
    "colab": {
     "base_uri": "https://localhost:8080/"
    },
    "executionInfo": {
     "elapsed": 14,
     "status": "ok",
     "timestamp": 1701105249215,
     "user": {
      "displayName": "Jada Projects",
      "userId": "08763996031315654589"
     },
     "user_tz": -330
    },
    "id": "cqM2rLVjlSNS",
    "outputId": "0ad4c36e-4949-4c28-8fdc-c328b1c7a55d"
   },
   "outputs": [
    {
     "name": "stdout",
     "output_type": "stream",
     "text": [
      "rows shape - duplicates found\n"
     ]
    },
    {
     "data": {
      "text/plain": [
       "1309"
      ]
     },
     "execution_count": 34,
     "metadata": {},
     "output_type": "execute_result"
    }
   ],
   "source": [
    "print(\"rows shape - duplicates found\")\n",
    "(Dataset3[Dataset3.duplicated()]).shape[0]"
   ]
  },
  {
   "cell_type": "code",
   "execution_count": 35,
   "metadata": {
    "colab": {
     "base_uri": "https://localhost:8080/",
     "height": 423
    },
    "executionInfo": {
     "elapsed": 564,
     "status": "ok",
     "timestamp": 1701105252281,
     "user": {
      "displayName": "Jada Projects",
      "userId": "08763996031315654589"
     },
     "user_tz": -330
    },
    "id": "5ID0BNpIslJN",
    "outputId": "7ab21ed6-708f-43aa-f285-7594c55a00a2"
   },
   "outputs": [
    {
     "data": {
      "text/html": [
       "<div>\n",
       "<style scoped>\n",
       "    .dataframe tbody tr th:only-of-type {\n",
       "        vertical-align: middle;\n",
       "    }\n",
       "\n",
       "    .dataframe tbody tr th {\n",
       "        vertical-align: top;\n",
       "    }\n",
       "\n",
       "    .dataframe thead th {\n",
       "        text-align: right;\n",
       "    }\n",
       "</style>\n",
       "<table border=\"1\" class=\"dataframe\">\n",
       "  <thead>\n",
       "    <tr style=\"text-align: right;\">\n",
       "      <th></th>\n",
       "      <th>Class Index</th>\n",
       "      <th>Description</th>\n",
       "    </tr>\n",
       "  </thead>\n",
       "  <tbody>\n",
       "    <tr>\n",
       "      <th>0</th>\n",
       "      <td>3</td>\n",
       "      <td>Reuters - Short-sellers, Wall Street's dwindli...</td>\n",
       "    </tr>\n",
       "    <tr>\n",
       "      <th>1</th>\n",
       "      <td>3</td>\n",
       "      <td>Reuters - Private investment firm Carlyle Grou...</td>\n",
       "    </tr>\n",
       "    <tr>\n",
       "      <th>2</th>\n",
       "      <td>3</td>\n",
       "      <td>Reuters - Soaring crude prices plus worries\\ab...</td>\n",
       "    </tr>\n",
       "    <tr>\n",
       "      <th>3</th>\n",
       "      <td>3</td>\n",
       "      <td>Reuters - Authorities have halted oil export\\f...</td>\n",
       "    </tr>\n",
       "    <tr>\n",
       "      <th>4</th>\n",
       "      <td>3</td>\n",
       "      <td>AFP - Tearaway world oil prices, toppling reco...</td>\n",
       "    </tr>\n",
       "    <tr>\n",
       "      <th>...</th>\n",
       "      <td>...</td>\n",
       "      <td>...</td>\n",
       "    </tr>\n",
       "    <tr>\n",
       "      <th>7595</th>\n",
       "      <td>1</td>\n",
       "      <td>Ukrainian presidential candidate Viktor Yushch...</td>\n",
       "    </tr>\n",
       "    <tr>\n",
       "      <th>7596</th>\n",
       "      <td>2</td>\n",
       "      <td>With the supply of attractive pitching options...</td>\n",
       "    </tr>\n",
       "    <tr>\n",
       "      <th>7597</th>\n",
       "      <td>2</td>\n",
       "      <td>Like Roger Clemens did almost exactly eight ye...</td>\n",
       "    </tr>\n",
       "    <tr>\n",
       "      <th>7598</th>\n",
       "      <td>3</td>\n",
       "      <td>SINGAPORE : Doctors in the United States have ...</td>\n",
       "    </tr>\n",
       "    <tr>\n",
       "      <th>7599</th>\n",
       "      <td>3</td>\n",
       "      <td>EBay plans to buy the apartment and home renta...</td>\n",
       "    </tr>\n",
       "  </tbody>\n",
       "</table>\n",
       "<p>126291 rows × 2 columns</p>\n",
       "</div>"
      ],
      "text/plain": [
       "      Class Index                                        Description\n",
       "0               3  Reuters - Short-sellers, Wall Street's dwindli...\n",
       "1               3  Reuters - Private investment firm Carlyle Grou...\n",
       "2               3  Reuters - Soaring crude prices plus worries\\ab...\n",
       "3               3  Reuters - Authorities have halted oil export\\f...\n",
       "4               3  AFP - Tearaway world oil prices, toppling reco...\n",
       "...           ...                                                ...\n",
       "7595            1  Ukrainian presidential candidate Viktor Yushch...\n",
       "7596            2  With the supply of attractive pitching options...\n",
       "7597            2  Like Roger Clemens did almost exactly eight ye...\n",
       "7598            3  SINGAPORE : Doctors in the United States have ...\n",
       "7599            3  EBay plans to buy the apartment and home renta...\n",
       "\n",
       "[126291 rows x 2 columns]"
      ]
     },
     "execution_count": 35,
     "metadata": {},
     "output_type": "execute_result"
    }
   ],
   "source": [
    "Dataset3 = Dataset3.drop_duplicates()\n",
    "Dataset3"
   ]
  },
  {
   "cell_type": "code",
   "execution_count": 36,
   "metadata": {
    "colab": {
     "base_uri": "https://localhost:8080/",
     "height": 527
    },
    "executionInfo": {
     "elapsed": 93978,
     "status": "ok",
     "timestamp": 1701105347940,
     "user": {
      "displayName": "Jada Projects",
      "userId": "08763996031315654589"
     },
     "user_tz": -330
    },
    "id": "Kd4fCqFJqykS",
    "outputId": "cc96d5c5-1d30-45c2-8ec8-663a9340a482"
   },
   "outputs": [
    {
     "name": "stderr",
     "output_type": "stream",
     "text": [
      "C:\\Users\\Ujjwal Joshi\\AppData\\Local\\Temp\\ipykernel_7608\\1449989226.py:13: SettingWithCopyWarning: \n",
      "A value is trying to be set on a copy of a slice from a DataFrame.\n",
      "Try using .loc[row_indexer,col_indexer] = value instead\n",
      "\n",
      "See the caveats in the documentation: https://pandas.pydata.org/pandas-docs/stable/user_guide/indexing.html#returning-a-view-versus-a-copy\n",
      "  Dataset3['Description']=text3\n"
     ]
    },
    {
     "data": {
      "text/html": [
       "<div>\n",
       "<style scoped>\n",
       "    .dataframe tbody tr th:only-of-type {\n",
       "        vertical-align: middle;\n",
       "    }\n",
       "\n",
       "    .dataframe tbody tr th {\n",
       "        vertical-align: top;\n",
       "    }\n",
       "\n",
       "    .dataframe thead th {\n",
       "        text-align: right;\n",
       "    }\n",
       "</style>\n",
       "<table border=\"1\" class=\"dataframe\">\n",
       "  <thead>\n",
       "    <tr style=\"text-align: right;\">\n",
       "      <th></th>\n",
       "      <th>Class Index</th>\n",
       "      <th>Description</th>\n",
       "    </tr>\n",
       "  </thead>\n",
       "  <tbody>\n",
       "    <tr>\n",
       "      <th>0</th>\n",
       "      <td>3</td>\n",
       "      <td>reuter short seller wall street dwindl band ul...</td>\n",
       "    </tr>\n",
       "    <tr>\n",
       "      <th>1</th>\n",
       "      <td>3</td>\n",
       "      <td>reuter privat invest firm carlyl group reput m...</td>\n",
       "    </tr>\n",
       "    <tr>\n",
       "      <th>2</th>\n",
       "      <td>3</td>\n",
       "      <td>reuter soar crude price plu worri economi outl...</td>\n",
       "    </tr>\n",
       "    <tr>\n",
       "      <th>3</th>\n",
       "      <td>3</td>\n",
       "      <td>reuter author halt oil export flow main pipeli...</td>\n",
       "    </tr>\n",
       "    <tr>\n",
       "      <th>4</th>\n",
       "      <td>3</td>\n",
       "      <td>afp tearaway world oil price toppl record stra...</td>\n",
       "    </tr>\n",
       "    <tr>\n",
       "      <th>...</th>\n",
       "      <td>...</td>\n",
       "      <td>...</td>\n",
       "    </tr>\n",
       "    <tr>\n",
       "      <th>7595</th>\n",
       "      <td>1</td>\n",
       "      <td>ukrainian presidenti candid viktor yushchenko ...</td>\n",
       "    </tr>\n",
       "    <tr>\n",
       "      <th>7596</th>\n",
       "      <td>2</td>\n",
       "      <td>suppli attract pitch option dwindl daili lost ...</td>\n",
       "    </tr>\n",
       "    <tr>\n",
       "      <th>7597</th>\n",
       "      <td>2</td>\n",
       "      <td>like roger clemen almost exactli eight year ea...</td>\n",
       "    </tr>\n",
       "    <tr>\n",
       "      <th>7598</th>\n",
       "      <td>3</td>\n",
       "      <td>singapor doctor unit state warn painkil bextra...</td>\n",
       "    </tr>\n",
       "    <tr>\n",
       "      <th>7599</th>\n",
       "      <td>3</td>\n",
       "      <td>ebay plan buy apart home rental servic rent co...</td>\n",
       "    </tr>\n",
       "  </tbody>\n",
       "</table>\n",
       "<p>126291 rows × 2 columns</p>\n",
       "</div>"
      ],
      "text/plain": [
       "      Class Index                                        Description\n",
       "0               3  reuter short seller wall street dwindl band ul...\n",
       "1               3  reuter privat invest firm carlyl group reput m...\n",
       "2               3  reuter soar crude price plu worri economi outl...\n",
       "3               3  reuter author halt oil export flow main pipeli...\n",
       "4               3  afp tearaway world oil price toppl record stra...\n",
       "...           ...                                                ...\n",
       "7595            1  ukrainian presidenti candid viktor yushchenko ...\n",
       "7596            2  suppli attract pitch option dwindl daili lost ...\n",
       "7597            2  like roger clemen almost exactli eight year ea...\n",
       "7598            3  singapor doctor unit state warn painkil bextra...\n",
       "7599            3  ebay plan buy apart home rental servic rent co...\n",
       "\n",
       "[126291 rows x 2 columns]"
      ]
     },
     "execution_count": 36,
     "metadata": {},
     "output_type": "execute_result"
    }
   ],
   "source": [
    "## \"\"\"NLP process\"\"\"\n",
    "\n",
    "def Research(ONA):\n",
    "    ONA = ONA.lower()\n",
    "    ONA = re.sub(\"[^a-z]+\", \" \", ONA)\n",
    "    ONA = \" \".join([A for A in ONA.split() if A not in stopwords])\n",
    "    ONA=' '.join([stemmer.stem(A) for A in ONA.split()])\n",
    "    return ONA\n",
    "\n",
    "text3=[]\n",
    "for c in Dataset3['Description']:\n",
    "    text3.append(Research(c))\n",
    "Dataset3['Description']=text3\n",
    "Dataset3"
   ]
  },
  {
   "cell_type": "code",
   "execution_count": 37,
   "metadata": {
    "colab": {
     "base_uri": "https://localhost:8080/",
     "height": 472
    },
    "executionInfo": {
     "elapsed": 992,
     "status": "ok",
     "timestamp": 1701105348910,
     "user": {
      "displayName": "Jada Projects",
      "userId": "08763996031315654589"
     },
     "user_tz": -330
    },
    "id": "Q-onlhmNqyn9",
    "outputId": "a9a1d45c-2b33-4303-cd44-ff5721065e4c"
   },
   "outputs": [
    {
     "data": {
      "image/png": "[encoded data removed]",
      "text/plain": [
       "<Figure size 640x480 with 1 Axes>"
      ]
     },
     "metadata": {},
     "output_type": "display_data"
    }
   ],
   "source": [
    "sns.countplot(y ='Class Index', data = Dataset3, color='maroon')\n",
    "plt.title(\"Online News Article Category\")\n",
    "plt.show()"
   ]
  },
  {
   "cell_type": "markdown",
   "metadata": {
    "id": "zoG6TJMWxCfj"
   },
   "source": [
    "* All four categories having equal count of news.\n",
    "* 1-World, 2-Sports, 3-Business, 4-Sci/Tech"
   ]
  },
  {
   "cell_type": "code",
   "execution_count": 38,
   "metadata": {
    "colab": {
     "base_uri": "https://localhost:8080/"
    },
    "executionInfo": {
     "elapsed": 33,
     "status": "ok",
     "timestamp": 1701105348912,
     "user": {
      "displayName": "Jada Projects",
      "userId": "08763996031315654589"
     },
     "user_tz": -330
    },
    "id": "8wYK-Fpdqyqv",
    "outputId": "5634d5b7-f515-489c-9050-b9cd0a892eaf"
   },
   "outputs": [
    {
     "data": {
      "text/plain": [
       "(126291, 2)"
      ]
     },
     "execution_count": 38,
     "metadata": {},
     "output_type": "execute_result"
    }
   ],
   "source": [
    "Dataset3.to_csv('Dataset3.csv', index=False)\n",
    "Dataset3.shape"
   ]
  },
  {
   "cell_type": "code",
   "execution_count": null,
   "metadata": {},
   "outputs": [],
   "source": []
  }
 ],
 "metadata": {
  "colab": {
   "authorship_tag": "ABX9TyNdvbXK9us9/PvyImNJEpwU",
   "provenance": []
  },
  "kernelspec": {
   "display_name": "Python 3 (ipykernel)",
   "language": "python",
   "name": "python3"
  },
  "language_info": {
   "codemirror_mode": {
    "name": "ipython",
    "version": 3
   },
   "file_extension": ".py",
   "mimetype": "text/x-python",
   "name": "python",
   "nbconvert_exporter": "python",
   "pygments_lexer": "ipython3",
   "version": "3.11.5"
  }
 },
 "nbformat": 4,
 "nbformat_minor": 1
}
